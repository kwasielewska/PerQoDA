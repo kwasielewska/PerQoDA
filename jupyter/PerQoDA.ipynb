{
 "cells": [
  {
   "cell_type": "markdown",
   "id": "fc4909fe",
   "metadata": {},
   "source": [
    "<h2>PerQoDA</h2>\n",
    "<h3>Dataset Quality Assessment with Permutation Testing</h3>\n"
   ]
  },
  {
   "cell_type": "markdown",
   "id": "19d5b575",
   "metadata": {},
   "source": [
    "Load required libraries. You may need to install some packages. Please, see the README for instructions on the installation of weles. The other packages may be installed with pip."
   ]
  },
  {
   "cell_type": "code",
   "execution_count": 2,
   "id": "d025f659",
   "metadata": {},
   "outputs": [],
   "source": [
    "import weles as ws\n",
    "import pandas as pd\n",
    "import seaborn as sn\n",
    "import matplotlib.pyplot as plt\n",
    "import numpy as np\n",
    "import matplotlib.cm as cm"
   ]
  },
  {
   "cell_type": "markdown",
   "id": "faec6951",
   "metadata": {},
   "source": [
    "Prepare dataset (X1 - data, y1 - labels). Add your data here. See examples in folder Examples."
   ]
  },
  {
   "cell_type": "code",
   "execution_count": 340,
   "id": "ae4411bc",
   "metadata": {},
   "outputs": [],
   "source": [
    "datasets = {\n",
    "    \"all\": (X1, y1)\n",
    "}"
   ]
  },
  {
   "cell_type": "markdown",
   "id": "e6ee849e",
   "metadata": {},
   "source": [
    "Select classifiers and metric. You may need to install some packages with pip."
   ]
  },
  {
   "cell_type": "code",
   "execution_count": 375,
   "id": "6fdfd8e3",
   "metadata": {},
   "outputs": [],
   "source": [
    "clfs = {\n",
    "        \"KNN\": KNeighborsClassifier(),\n",
    "        \"RF\": RandomForestClassifier(),\n",
    "        \"AB\": AdaBoostClassifier()\n",
    "}\n",
    "\n",
    "metrics = {\n",
    "    \"recall\": sensitivity_score\n",
    "}"
   ]
  },
  {
   "cell_type": "markdown",
   "id": "21117e5f",
   "metadata": {},
   "source": [
    "Run the Weles and save true results"
   ]
  },
  {
   "cell_type": "code",
   "execution_count": null,
   "id": "42a4ed99",
   "metadata": {},
   "outputs": [],
   "source": [
    "# protocol2=(shuffle, folds, random_state)\n",
    "ev = ws.evaluation.Evaluator(datasets=datasets, protocol2=(False, 2, None)).process(clfs=clfs, verbose=1)\n",
    "\n",
    "scores = ev.score(metrics=metrics)"
   ]
  },
  {
   "cell_type": "markdown",
   "id": "08c191c2",
   "metadata": {},
   "source": [
    "Run the PerQoDA"
   ]
  },
  {
   "cell_type": "code",
   "execution_count": null,
   "id": "32b3d853",
   "metadata": {},
   "outputs": [],
   "source": [
    "nperm = 100 # number of permutations \n",
    "perc = [50, 25, 10, 5, 1] # percentage of labels\n",
    "a = np.shape(ev.scores.mean(axis=2)[:, :, 0]) # true results\n",
    "\n",
    "perm = np.zeros((nperm,len(perc),a[1]))\n",
    "perc_true = np.zeros((nperm,len(perc)))\n",
    "\n",
    "for i in range(nperm):\n",
    "    for j, p in enumerate(self.perc):\n",
    "\n",
    "        print(i,j)\n",
    "           \n",
    "        while True:\n",
    "            indices = [\n",
    "                np.where(self.y1 == k)[0] for k in np.unique(self.y1)\n",
    "            ]\n",
    "\n",
    "            ind_percentages = [\n",
    "                round(p * len(index) / 100) for index in indices\n",
    "            ]\n",
    "\n",
    "            indP = np.random.permutation(\n",
    "                np.concatenate(\n",
    "                    [\n",
    "                        np.random.permutation(ind)[:nperc]\n",
    "                        for ind, nperc in zip(indices, ind_percentages)\n",
    "                    ]\n",
    "                )\n",
    "            )\n",
    "\n",
    "            ind = np.sort(indP)\n",
    "\n",
    "            y1P = np.copy(self.y1)\n",
    "\n",
    "            y1P[ind] = self.y1[indP]\n",
    "\n",
    "            comparison = self.y1 == y1P\n",
    "            \n",
    "            if not comparison.all():\n",
    "                break\n",
    "\n",
    "        datasetsP = {\n",
    "          \"all\": (X1, y1P)\n",
    "        }\n",
    "\n",
    "        evP = ws.evaluation.Evaluator(datasets=datasetsP,protocol2=(False, 2, None)).process(clfs=clfs, verbose=0)\n",
    "\n",
    "        scores = evP.score(metrics=metrics)\n",
    "\n",
    "        perm[i,j,:] = evP.scores.mean(axis=2)[:, :, 0]\n",
    "        \n",
    "        perc_true[i, j] = np.sum(y1P == self.y1) / len(self.y1)\n",
    "        perc_true[i,j] = kk[0,1]"
   ]
  },
  {
   "cell_type": "markdown",
   "id": "7a03f3ab",
   "metadata": {},
   "source": [
    "Visualize ML results and print the p-value table"
   ]
  },
  {
   "cell_type": "code",
   "execution_count": null,
   "id": "b379e7db",
   "metadata": {},
   "outputs": [],
   "source": [
    "pvalues = np.zeros((a[1],len(perc)))\n",
    "colors = cm.rainbow(np.linspace(0, 1, a[1]))\n",
    "\n",
    "# plot true values as diamonds\n",
    "for i, c in zip(range(a[1]),colors):\n",
    "    plt.scatter(1.1+i*0.01, ev.scores.mean(axis=2)[:, i, 0], s=100, color=c, marker='d')\n",
    "    \n",
    "plt.legend((\"KNN\",\"RF\",\"AB\"))\n",
    "\n",
    "# plot lines for true values\n",
    "for i, c in zip(range(a[1]),colors):\n",
    "    plt.plot([0, 1.1+i*0.01], [ev.scores.mean(axis=2)[:, i, 0], ev.scores.mean(axis=2)[:, i, 0]], c=c, linestyle='dashed', alpha=0.5)\n",
    "\n",
    "# plot permutations\n",
    "colors = cm.rainbow(np.linspace(0, 1, a[1]))\n",
    "for j in range(len(perc)):\n",
    "    for i, c in zip(range(a[1]),colors):\n",
    "        ind = np.where(perm[:,j,i]<ev.scores.mean(axis=2)[:, i, 0])\n",
    "        plt.scatter((perc_true[ind,j]), perm[ind,j,i], color=\"none\", edgecolor=c, alpha=0.3)\n",
    "        \n",
    "for j in range(len(perc)):\n",
    "    for i, c in zip(range(a[1]),colors):\n",
    "        ind = np.where(perm[:,j,i]>=ev.scores.mean(axis=2)[:, i, 0])\n",
    "        plt.scatter((perc_true[ind,j]), perm[ind,j,i], color=c, edgecolor=\"black\", alpha=1)\n",
    "        pvalues[i,j] = ((len(ind[0])+1)*1.0)/(nperm+1);\n",
    "\n",
    "plt.ylabel('Performance (Recall)', size=12)\n",
    "plt.xlabel('Permutation Fraction True', size=12)       \n",
    "\n",
    "plt.plot([0, 1.1], [perm.min(), perm.min()], color='red', linestyle='dashed', alpha=0.5)\n",
    "\n",
    "plt.axis([-0.05, 1.2, 0, 1.1])\n",
    "\n",
    "plt.show()\n",
    "\n",
    "pv = pd.DataFrame(data=pvalues, index=[\"KNN\",\"RF\",\"AB\"], columns=[\"50%\", \"25%\", \"10%\", \"5%\", \"1%\"])\n",
    "\n",
    "def significant(v):\n",
    "    return \"font-weight: bold; color: red\" if v > 0.01 else None\n",
    "\n",
    "pv.style.applymap(significant)"
   ]
  },
  {
   "cell_type": "markdown",
   "id": "d92d22da",
   "metadata": {},
   "source": [
    "Calculate the slope"
   ]
  },
  {
   "cell_type": "code",
   "execution_count": null,
   "id": "f809b0e8",
   "metadata": {},
   "outputs": [],
   "source": [
    "names = [\"KNN\",\"RF\",\"AB\"]\n",
    "cor = []\n",
    "per = []\n",
    "slopes = []\n",
    "\n",
    "for i, c in zip(range(a[1]),colors):\n",
    "    for j in range(len(perc)):\n",
    "        plt.scatter(np.mean(perc_true[:,j]), np.mean(perm[:,j,i]), color=c, alpha=1)\n",
    "    \n",
    "    cor = np.mean(perc_true[:,:], axis=0)\n",
    "    per = np.mean(perm[:,:,i], axis=0)\n",
    "    \n",
    "    slope, intercept = np.polyfit(cor, per, 1)\n",
    "    plt.plot(cor, slope*cor + intercept, color=c, linewidth=0.8)\n",
    "    print(names[i], '=', slope)\n",
    "    slopes = np.append(slopes, slope)\n",
    "\n",
    "plt.legend(names)\n",
    "plt.ylabel('Performance (mean)', size=12)\n",
    "plt.xlabel('Permutation Fraction True', size=12) \n",
    "\n",
    "maxind = np.argmax(slopes)\n",
    "\n",
    "print('Slope:', np.max(slopes), '-', names[maxind])"
   ]
  }
 ],
 "metadata": {
  "kernelspec": {
   "display_name": "Python 3 (ipykernel)",
   "language": "python",
   "name": "python3"
  },
  "language_info": {
   "codemirror_mode": {
    "name": "ipython",
    "version": 3
   },
   "file_extension": ".py",
   "mimetype": "text/x-python",
   "name": "python",
   "nbconvert_exporter": "python",
   "pygments_lexer": "ipython3",
   "version": "3.8.5"
  }
 },
 "nbformat": 4,
 "nbformat_minor": 5
}
